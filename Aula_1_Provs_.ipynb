{
  "nbformat": 4,
  "nbformat_minor": 0,
  "metadata": {
    "colab": {
      "name": "Aula_1_Provs_.ipynb",
      "provenance": [],
      "authorship_tag": "ABX9TyMfxrxgpER5L65gqJJ6ITnO",
      "include_colab_link": true
    },
    "kernelspec": {
      "name": "python3",
      "display_name": "Python 3"
    },
    "language_info": {
      "name": "python"
    }
  },
  "cells": [
    {
      "cell_type": "markdown",
      "metadata": {
        "id": "view-in-github",
        "colab_type": "text"
      },
      "source": [
        "<a href=\"https://colab.research.google.com/github/GabAlvarenga/CursoProgramacaoAvancadaENCE/blob/main/Aula_1_Provs_.ipynb\" target=\"_parent\"><img src=\"https://colab.research.google.com/assets/colab-badge.svg\" alt=\"Open In Colab\"/></a>"
      ]
    },
    {
      "cell_type": "code",
      "metadata": {
        "colab": {
          "base_uri": "https://localhost:8080/"
        },
        "id": "ggpVmElVMRKk",
        "outputId": "e6c19ec4-efe7-4b99-b305-cbd7ae4daaa2"
      },
      "source": [
        "print(\"Prog avançada\")"
      ],
      "execution_count": 1,
      "outputs": [
        {
          "output_type": "stream",
          "name": "stdout",
          "text": [
            "Prog avançada\n"
          ]
        }
      ]
    }
  ]
}